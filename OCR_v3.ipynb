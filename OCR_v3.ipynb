{
  "nbformat": 4,
  "nbformat_minor": 0,
  "metadata": {
    "colab": {
      "provenance": [],
      "private_outputs": true,
      "authorship_tag": "ABX9TyOIZNVSkee6oo6FClBATqh6",
      "include_colab_link": true
    },
    "kernelspec": {
      "name": "python3",
      "display_name": "Python 3"
    },
    "language_info": {
      "name": "python"
    },
    "gpuClass": "standard"
  },
  "cells": [
    {
      "cell_type": "markdown",
      "metadata": {
        "id": "view-in-github",
        "colab_type": "text"
      },
      "source": [
        "<a href=\"https://colab.research.google.com/github/nagarad/OCR/blob/main/OCR_v3.ipynb\" target=\"_parent\"><img src=\"https://colab.research.google.com/assets/colab-badge.svg\" alt=\"Open In Colab\"/></a>"
      ]
    },
    {
      "cell_type": "markdown",
      "source": [
        "https://www.youtube.com/watch?v=owiqdzha_DE&list=RDCMUC34rW-HtPJulxr5wp2Xa04w&start_radio=1&rv=owiqdzha_DE&t=135\n",
        "https://www.youtube.com/watch?v=owiqdzha_DE&t=101s\n",
        "https://github.com/nicknochnack/ImageClassification/blob/main/Getting%20Started.ipynb\n",
        "https://github.com/AndroidArena/EasyOCR/blob/master/EasyOCRDemo.ipynb\n",
        "https://www.kaggle.com/code/robikscube/extracting-text-from-images-youtube-tutorial#Outline"
      ],
      "metadata": {
        "id": "a0ddCp0IPdb6"
      }
    },
    {
      "cell_type": "code",
      "source": [
        "!pip install easyocr"
      ],
      "metadata": {
        "id": "b0dSZ4zJq8hW"
      },
      "execution_count": null,
      "outputs": []
    },
    {
      "cell_type": "code",
      "execution_count": null,
      "metadata": {
        "id": "yY13QNUcJxwq"
      },
      "outputs": [],
      "source": [
        "import matplotlib.pyplot as plt\n",
        "import pandas as pd\n",
        "import numpy as np\n",
        "import os\n",
        "from matplotlib import image as mpimg\n",
        "import glob\n",
        "import cv2\n",
        "from PIL import Image, ImageFile\n",
        "import sys\n",
        "import PIL\n",
        "import easyocr\n"
      ]
    },
    {
      "cell_type": "code",
      "source": [
        "pd.set_option('display.max_columns', None)\n",
        "pd.set_option('display.max_rows', None)\n"
      ],
      "metadata": {
        "id": "zK3xPSKGPLmq"
      },
      "execution_count": null,
      "outputs": []
    },
    {
      "cell_type": "code",
      "source": [
        "path = '/content/sample_data/OCR_Images'"
      ],
      "metadata": {
        "id": "oy1U_FYTLo9t"
      },
      "execution_count": null,
      "outputs": []
    },
    {
      "cell_type": "code",
      "source": [
        "print(os.listdir(path))\n"
      ],
      "metadata": {
        "id": "n8nb4d9yL4lD"
      },
      "execution_count": null,
      "outputs": []
    },
    {
      "cell_type": "code",
      "source": [
        "df=[]\n",
        "\n",
        "for image in os.listdir(path):\n",
        "    print(image)\n",
        "    "
      ],
      "metadata": {
        "id": "bbDDpTmZMDJq"
      },
      "execution_count": null,
      "outputs": []
    },
    {
      "cell_type": "code",
      "source": [
        "Doc = []\n",
        "for i in os.listdir(path):\n",
        "  Doc.append(i)"
      ],
      "metadata": {
        "id": "M2p0oNltRu38"
      },
      "execution_count": null,
      "outputs": []
    },
    {
      "cell_type": "code",
      "source": [
        "Doc"
      ],
      "metadata": {
        "id": "L1SfB8ro9vxr"
      },
      "execution_count": null,
      "outputs": []
    },
    {
      "cell_type": "code",
      "source": [
        "all_files = Doc \n",
        "Doc_id = [i.replace('.tif', '') for i in all_files]"
      ],
      "metadata": {
        "id": "VZtrS-yceP-6"
      },
      "execution_count": null,
      "outputs": []
    },
    {
      "cell_type": "code",
      "source": [
        "Doc_id"
      ],
      "metadata": {
        "id": "XlZGw24Le291"
      },
      "execution_count": null,
      "outputs": []
    },
    {
      "cell_type": "code",
      "source": [
        "img_shape=[]\n",
        "img_size=[]\n",
        "\n",
        "for i in Doc:\n",
        "    image = mpimg.imread(path + '/' + i)\n",
        "    img_shape.append(image.shape)\n",
        "    img_size.append(image.size)\n",
        "\n"
      ],
      "metadata": {
        "id": "J4GIlhEAiia-"
      },
      "execution_count": null,
      "outputs": []
    },
    {
      "cell_type": "code",
      "source": [
        "del list"
      ],
      "metadata": {
        "id": "LWCzmYdifHVJ"
      },
      "execution_count": null,
      "outputs": []
    },
    {
      "cell_type": "code",
      "source": [
        "list = list(zip(Doc_id,Doc,img_size,img_shape))"
      ],
      "metadata": {
        "id": "LYxNrFLcMx_H"
      },
      "execution_count": null,
      "outputs": []
    },
    {
      "cell_type": "code",
      "source": [
        "df = pd.DataFrame(list, columns=['Doc_id','Doc','size','shape'])\n",
        "df"
      ],
      "metadata": {
        "id": "lIjX3ANQd6nS"
      },
      "execution_count": null,
      "outputs": []
    },
    {
      "cell_type": "code",
      "source": [
        "df['height'] = df['shape'].apply(lambda x: x[0])\n",
        "df['width'] = df['shape'].apply(lambda x: x[1])\n",
        "\n",
        "df.head()\n"
      ],
      "metadata": {
        "id": "7EvSaku3_wNn"
      },
      "execution_count": null,
      "outputs": []
    },
    {
      "cell_type": "code",
      "source": [
        "df.boxplot('width','Doc_id')"
      ],
      "metadata": {
        "id": "2g4528NzK7tt"
      },
      "execution_count": null,
      "outputs": []
    },
    {
      "cell_type": "code",
      "source": [
        "plt.figure()\n",
        "plt.plot(img_shape)\n",
        "plt.show()"
      ],
      "metadata": {
        "id": "1onlparvKIYh"
      },
      "execution_count": null,
      "outputs": []
    },
    {
      "cell_type": "code",
      "source": [
        "df.keys"
      ],
      "metadata": {
        "id": "pc7e7tXa_3-_"
      },
      "execution_count": null,
      "outputs": []
    },
    {
      "cell_type": "code",
      "source": [
        "df.isnull().sum()"
      ],
      "metadata": {
        "id": "uF4FscVtd_Of"
      },
      "execution_count": null,
      "outputs": []
    },
    {
      "cell_type": "code",
      "source": [
        "print(df.shape)\n"
      ],
      "metadata": {
        "id": "-Lf6-AVsiUJQ"
      },
      "execution_count": null,
      "outputs": []
    },
    {
      "cell_type": "code",
      "source": [
        "for i in Doc:\n",
        "    image = mpimg.imread(path + '/' + i)\n",
        "    plt.imshow(image,cmap = 'gray')\n",
        "    f = plt.gcf()\n",
        "    f.set_size_inches(24.5, 16)\n",
        "    plt.show()\n"
      ],
      "metadata": {
        "id": "ajDJ_kE4j8Yi"
      },
      "execution_count": null,
      "outputs": []
    },
    {
      "cell_type": "code",
      "source": [
        "for i in Doc:\n",
        "    image = mpimg.imread(path + '/' + i)\n",
        "    f,ax = plt.subplots(1, 2, figsize=(18.5, 24))\n",
        "    ax[0].imshow(image, cmap='gray')\n",
        "    ax[0].set_title('Original Image', fontsize=15, color='red')\n",
        "\n",
        "    image_binarize = cv2.adaptiveThreshold(image, 255, cv2.ADAPTIVE_THRESH_GAUSSIAN_C, cv2.THRESH_BINARY,11,2)\n",
        "    ax[1].imshow(image_binarize, cmap='gray')\n",
        "    ax[1].set_title('Binarized Image', fontsize=15, color='red')\n",
        "    cv2.imwrite('Resized_folder.jpg*',image_binarize )\n"
      ],
      "metadata": {
        "id": "c_Crhp1yGc8j"
      },
      "execution_count": null,
      "outputs": []
    },
    {
      "cell_type": "code",
      "source": [
        "new_array = []\n",
        "dsize = (500,800)\n",
        "for i in Doc:\n",
        "    image = mpimg.imread(path + '/' + i)\n",
        "    image = cv2.resize(image, dsize)\n",
        "    new_array.append(image)\n",
        "    plt.imshow(image,cmap = 'gray')\n",
        "    plt.show()\n",
        "\n",
        "\n",
        "new_array = np.array(new_array)\n"
      ],
      "metadata": {
        "id": "WLGQY5U65ct1"
      },
      "execution_count": null,
      "outputs": []
    },
    {
      "cell_type": "code",
      "source": [
        "new_array"
      ],
      "metadata": {
        "id": "dXyOBMCJM9Q6"
      },
      "execution_count": null,
      "outputs": []
    },
    {
      "cell_type": "code",
      "source": [
        "new_array = np.array(new_array)\n",
        "new_array = new_array.astype('float32')\n"
      ],
      "metadata": {
        "id": "EXEwJVKHN-13"
      },
      "execution_count": null,
      "outputs": []
    },
    {
      "cell_type": "code",
      "source": [
        "new_array = np.array(new_array).reshape(-1,)\n"
      ],
      "metadata": {
        "id": "booox7NoOwYJ"
      },
      "execution_count": null,
      "outputs": []
    },
    {
      "cell_type": "code",
      "source": [
        "new_array"
      ],
      "metadata": {
        "id": "CaK5p9_IOb2y"
      },
      "execution_count": null,
      "outputs": []
    },
    {
      "cell_type": "code",
      "source": [
        "plt.figure()\n",
        "plt.plot(new_array)\n",
        "plt.show()"
      ],
      "metadata": {
        "id": "TXWKi9_kVf0X"
      },
      "execution_count": null,
      "outputs": []
    },
    {
      "cell_type": "code",
      "source": [
        "del list"
      ],
      "metadata": {
        "id": "pMUOne6cORLG"
      },
      "execution_count": null,
      "outputs": []
    },
    {
      "cell_type": "code",
      "source": [
        "list = list(zip(Doc_id,Doc,img_size,img_shape,new_array))"
      ],
      "metadata": {
        "id": "JRRZYno9OPNQ"
      },
      "execution_count": null,
      "outputs": []
    },
    {
      "cell_type": "code",
      "source": [
        "df = pd.DataFrame(list, columns=['Doc_id','Doc','size','shape','new_array'])\n",
        "df"
      ],
      "metadata": {
        "id": "HlkVkUbKOYO4"
      },
      "execution_count": null,
      "outputs": []
    },
    {
      "cell_type": "code",
      "source": [
        "import easyocr\n"
      ],
      "metadata": {
        "id": "jFV2fUHcjai9"
      },
      "execution_count": null,
      "outputs": []
    },
    {
      "cell_type": "code",
      "source": [
        "reader = easyocr.Reader(['en'])"
      ],
      "metadata": {
        "id": "-hG9hdoDrknv"
      },
      "execution_count": null,
      "outputs": []
    },
    {
      "cell_type": "code",
      "source": [
        "reader = easyocr.Reader(['en'])\n",
        "img_number = 1\n",
        "df = pd.DataFrame()\n",
        "len = []\n",
        "\n",
        "for i in Doc:\n",
        "    image = mpimg.imread(path + '/' + i)\n",
        "    result = reader.readtext(image)\n",
        "    df=df.append(pd.DataFrame(result,columns=['bbox', 'text', 'confidence_rate']))\n",
        "    img_number +=1"
      ],
      "metadata": {
        "id": "DQtE373pG9Dn"
      },
      "execution_count": null,
      "outputs": []
    },
    {
      "cell_type": "code",
      "source": [
        "df"
      ],
      "metadata": {
        "id": "d663Us3DkgWD"
      },
      "execution_count": null,
      "outputs": []
    },
    {
      "cell_type": "code",
      "source": [
        "for i in result:\n",
        "    print(i[1])"
      ],
      "metadata": {
        "id": "-BpO8tOJbGGL"
      },
      "execution_count": null,
      "outputs": []
    },
    {
      "cell_type": "code",
      "source": [
        "    image = mpimg.imread('/content/sample_data/OCR_Images/0001139626.tif')\n",
        "    f,ax = plt.subplots(1, 2, figsize=(18.5, 24))\n",
        "    ax[0].imshow(image, cmap='gray')\n",
        "    ax[0].set_title('Original Image', fontsize=15, color='red')\n",
        "\n",
        "    image_binarize = cv2.adaptiveThreshold(image, 255, cv2.ADAPTIVE_THRESH_GAUSSIAN_C, cv2.THRESH_BINARY,11,2)\n",
        "    ax[1].imshow(image_binarize, cmap='gray')\n",
        "    ax[1].set_title('Binarized Image', fontsize=15, color='red')\n",
        "    cv2.imwrite('Resized_folder.jpg*',image_binarize )\n"
      ],
      "metadata": {
        "id": "PwU3Ox-iAECu"
      },
      "execution_count": null,
      "outputs": []
    },
    {
      "cell_type": "code",
      "source": [
        "image = mpimg.imread('/content/sample_data/OCR_Images/0001139626.tif')\n",
        "image_binarize = cv2.adaptiveThreshold(image, 255, cv2.ADAPTIVE_THRESH_GAUSSIAN_C, cv2.THRESH_BINARY,11,2)\n",
        "ax[1].imshow(image_binarize, cmap='gray')\n",
        "ax[1].set_title('Binarized Image', fontsize=15, color='red')\n",
        "cv2.imwrite('Resized_folder.jpg*',image_binarize )\n",
        "plt.imshow(image_binarize,cmap = 'gray')\n",
        "plt.show()\n",
        "cv2.imwrite('/content/sample_data/OCR_Images/test.tif', image_binarize)\n"
      ],
      "metadata": {
        "id": "HfrYvdcTceey"
      },
      "execution_count": null,
      "outputs": []
    },
    {
      "cell_type": "code",
      "source": [],
      "metadata": {
        "id": "dEg8IBurhDuw"
      },
      "execution_count": null,
      "outputs": []
    },
    {
      "cell_type": "code",
      "source": [
        "image_2 = mpimg.imread('/content/sample_data/OCR_Images/03724950_03724951.tif')\n",
        "image_binarize_2 = cv2.adaptiveThreshold(image_2, 255, cv2.ADAPTIVE_THRESH_GAUSSIAN_C, cv2.THRESH_BINARY,11,2)\n",
        "ax[1].imshow(image_binarize_2, cmap='gray')\n",
        "ax[1].set_title('Binarized Image', fontsize=15, color='red')\n",
        "cv2.imwrite('Resized_folder.jpg*',image_binarize_2 )\n",
        "plt.imshow(image_binarize_2,cmap = 'gray')\n",
        "plt.show()\n",
        "cv2.imwrite('/content/sample_data/OCR_Images/test_2.tif', image_binarize_2)\n"
      ],
      "metadata": {
        "id": "Quyyl8aLhDy9"
      },
      "execution_count": null,
      "outputs": []
    },
    {
      "cell_type": "code",
      "source": [
        "image_binarize"
      ],
      "metadata": {
        "id": "r1rzNLhTIOdf"
      },
      "execution_count": null,
      "outputs": []
    },
    {
      "cell_type": "code",
      "source": [
        "import PIL\n",
        "from PIL import ImageDraw\n",
        "im = PIL.Image.open(\"/content/sample_data/OCR_Images/test.tif\")\n",
        "im"
      ],
      "metadata": {
        "id": "UOkbjRqVcX6G"
      },
      "execution_count": null,
      "outputs": []
    },
    {
      "cell_type": "code",
      "source": [
        "import PIL\n",
        "from PIL import ImageDraw\n",
        "im = PIL.Image.open(\"/content/sample_data/OCR_Images/test_2.tif\")\n",
        "im"
      ],
      "metadata": {
        "id": "xC3OyPlqia8l"
      },
      "execution_count": null,
      "outputs": []
    },
    {
      "cell_type": "code",
      "source": [
        "bounds = reader.readtext(image_binarize)\n",
        "bounds"
      ],
      "metadata": {
        "id": "u0S5_pdcb9XS"
      },
      "execution_count": null,
      "outputs": []
    },
    {
      "cell_type": "code",
      "source": [
        "bounds = reader.readtext(image_binarize_2)\n",
        "bounds"
      ],
      "metadata": {
        "id": "OOxAgTqYh0Dk"
      },
      "execution_count": null,
      "outputs": []
    },
    {
      "cell_type": "code",
      "source": [
        "def draw_boxes(image, bounds, color='green', width=2):\n",
        "    draw = ImageDraw.Draw(image)\n",
        "    for bound in bounds:\n",
        "        p0, p1, p2, p3 = bound[0]\n",
        "        draw.line([*p0, *p1, *p2, *p3, *p0], fill=color, width=width)\n",
        "    return image\n",
        "\n",
        "draw_boxes(im, bounds)"
      ],
      "metadata": {
        "id": "R-z5rihKcK7l"
      },
      "execution_count": null,
      "outputs": []
    },
    {
      "cell_type": "code",
      "source": [
        "\n",
        "for i in bounds:\n",
        "    print(i[1])"
      ],
      "metadata": {
        "id": "eeftafJIMOpt"
      },
      "execution_count": null,
      "outputs": []
    }
  ]
}