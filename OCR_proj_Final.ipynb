{
  "nbformat": 4,
  "nbformat_minor": 0,
  "metadata": {
    "colab": {
      "provenance": [],
      "private_outputs": true,
      "authorship_tag": "ABX9TyMuQTaCho3KfUrNB1iBfmby",
      "include_colab_link": true
    },
    "kernelspec": {
      "name": "python3",
      "display_name": "Python 3"
    },
    "language_info": {
      "name": "python"
    },
    "gpuClass": "standard"
  },
  "cells": [
    {
      "cell_type": "markdown",
      "metadata": {
        "id": "view-in-github",
        "colab_type": "text"
      },
      "source": [
        "<a href=\"https://colab.research.google.com/github/nagarad/OCR/blob/main/OCR_proj_Final.ipynb\" target=\"_parent\"><img src=\"https://colab.research.google.com/assets/colab-badge.svg\" alt=\"Open In Colab\"/></a>"
      ]
    },
    {
      "cell_type": "code",
      "execution_count": null,
      "metadata": {
        "id": "yY13QNUcJxwq"
      },
      "outputs": [],
      "source": [
        "import matplotlib.pyplot as plt\n",
        "import pandas as pd\n",
        "import numpy as np\n",
        "import os\n",
        "from matplotlib import image as mpimg\n",
        "import glob\n",
        "import cv2\n",
        "import matplotlib.image as mpimg\n",
        "from PIL import Image\n"
      ]
    },
    {
      "cell_type": "code",
      "source": [
        "!pip install easyocr"
      ],
      "metadata": {
        "id": "b0dSZ4zJq8hW"
      },
      "execution_count": null,
      "outputs": []
    },
    {
      "cell_type": "code",
      "source": [
        "from keras.preprocessing.image import ImageDataGenerator\n",
        "from keras.preprocessing import image\n",
        "import sys\n",
        "import PIL\n",
        "import easyocr"
      ],
      "metadata": {
        "id": "nSFAc3Rom_KN"
      },
      "execution_count": null,
      "outputs": []
    },
    {
      "cell_type": "code",
      "source": [
        "!sudo apt install tesseract-ocr\n",
        "!pip install pytesseract"
      ],
      "metadata": {
        "id": "jWUPYHtonI5t"
      },
      "execution_count": null,
      "outputs": []
    },
    {
      "cell_type": "code",
      "source": [
        "import pytesseract as pt\n",
        "windows_path = r'C:\\Users\\NAGARAD\\AppData\\Local\\Programs\\Tesseract-OCR\\tesseract.exe'\n"
      ],
      "metadata": {
        "id": "r8jtfuAgnPQ_"
      },
      "execution_count": null,
      "outputs": []
    },
    {
      "cell_type": "code",
      "source": [
        "pt.pytesseract.tesseract_cmd = windows_path\n"
      ],
      "metadata": {
        "id": "62L9VtIQoEYP"
      },
      "execution_count": null,
      "outputs": []
    },
    {
      "cell_type": "code",
      "source": [
        "pt"
      ],
      "metadata": {
        "id": "pbv6wVQSLbJ7"
      },
      "execution_count": null,
      "outputs": []
    },
    {
      "cell_type": "code",
      "source": [
        "!pip install transformers"
      ],
      "metadata": {
        "id": "Ksad87Z-oAj8"
      },
      "execution_count": null,
      "outputs": []
    },
    {
      "cell_type": "code",
      "source": [
        "from transformers import LayoutLMv2FeatureExtractor, LayoutLMv2Tokenizer, LayoutLMv2Processor\n",
        "\n",
        "feature_extractor = LayoutLMv2FeatureExtractor()\n",
        "tokenizer = LayoutLMv2Tokenizer.from_pretrained(\"microsoft/layoutlmv2-base-uncased\")\n",
        "processor = LayoutLMv2Processor(feature_extractor, tokenizer)\n",
        "     "
      ],
      "metadata": {
        "id": "6CFybs-zmajL"
      },
      "execution_count": null,
      "outputs": []
    },
    {
      "cell_type": "code",
      "source": [
        "path = '/content/sample_data/OCR_Images'"
      ],
      "metadata": {
        "id": "oy1U_FYTLo9t"
      },
      "execution_count": null,
      "outputs": []
    },
    {
      "cell_type": "code",
      "source": [
        "print(os.listdir(path))"
      ],
      "metadata": {
        "id": "n8nb4d9yL4lD"
      },
      "execution_count": null,
      "outputs": []
    },
    {
      "cell_type": "code",
      "source": [
        "for image in os.listdir(path):\n",
        "    print(image)"
      ],
      "metadata": {
        "id": "bbDDpTmZMDJq"
      },
      "execution_count": null,
      "outputs": []
    },
    {
      "cell_type": "code",
      "source": [
        "tifs, gts, ocrs, oths = [], [], [], []\n",
        "\n",
        "\n",
        "\n",
        "for i in os.listdir(path):\n",
        "\n",
        "    if i.endswith('.tif'):\n",
        "        tifs.append(i)\n",
        "    elif i.endswith('_gt.xml'):\n",
        "        gts.append(i)\n",
        "    elif i.endswith('_ocr.xml'):\n",
        "        ocrs.append(i)\n",
        "    else:\n",
        "        oths.append(i)\n",
        "\n"
      ],
      "metadata": {
        "id": "M2p0oNltRu38"
      },
      "execution_count": null,
      "outputs": []
    },
    {
      "cell_type": "code",
      "source": [
        "print(tifs)"
      ],
      "metadata": {
        "id": "YsAO-96RdeZT"
      },
      "execution_count": null,
      "outputs": []
    },
    {
      "cell_type": "code",
      "source": [
        "all_files = tifs + gts + ocrs\n",
        "roots_id = [i.replace('.tif', '').replace('_gt.xml','').replace('_ocr.xml','') for i in all_files]\n"
      ],
      "metadata": {
        "id": "VZtrS-yceP-6"
      },
      "execution_count": null,
      "outputs": []
    },
    {
      "cell_type": "code",
      "source": [
        "roots_id"
      ],
      "metadata": {
        "id": "XlZGw24Le291"
      },
      "execution_count": null,
      "outputs": []
    },
    {
      "cell_type": "code",
      "source": [
        "list_2 = list((tifs))"
      ],
      "metadata": {
        "id": "4m4T7bLDkTAT"
      },
      "execution_count": null,
      "outputs": []
    },
    {
      "cell_type": "code",
      "source": [
        "del list"
      ],
      "metadata": {
        "id": "ZKYzLOGhJBy9"
      },
      "execution_count": null,
      "outputs": []
    },
    {
      "cell_type": "code",
      "source": [
        "list_3 = list((ocrs))"
      ],
      "metadata": {
        "id": "AaCWWzgwI0uT"
      },
      "execution_count": null,
      "outputs": []
    },
    {
      "cell_type": "code",
      "source": [
        "list_3"
      ],
      "metadata": {
        "id": "zYIQJvD0JElk"
      },
      "execution_count": null,
      "outputs": []
    },
    {
      "cell_type": "code",
      "source": [
        "list_2"
      ],
      "metadata": {
        "id": "olqibYnhOe0A"
      },
      "execution_count": null,
      "outputs": []
    },
    {
      "cell_type": "code",
      "source": [
        "img_shape=[]\n",
        "img_size=[]\n",
        "\n",
        "for i in list_2:\n",
        "    image = mpimg.imread(path + '/' + i)\n",
        "    img_shape.append(image.shape)\n",
        "    img_size.append(image.size)\n",
        "\n"
      ],
      "metadata": {
        "id": "J4GIlhEAiia-"
      },
      "execution_count": null,
      "outputs": []
    },
    {
      "cell_type": "code",
      "source": [
        "img_size"
      ],
      "metadata": {
        "id": "4By909mIkJ9_"
      },
      "execution_count": null,
      "outputs": []
    },
    {
      "cell_type": "code",
      "source": [
        "img_shape"
      ],
      "metadata": {
        "id": "tJGc5eqqi1ME"
      },
      "execution_count": null,
      "outputs": []
    },
    {
      "cell_type": "code",
      "source": [
        "del list"
      ],
      "metadata": {
        "id": "LWCzmYdifHVJ"
      },
      "execution_count": null,
      "outputs": []
    },
    {
      "cell_type": "code",
      "source": [
        "list = list(zip(roots_id,tifs,ocrs,gts,img_size,img_shape))"
      ],
      "metadata": {
        "id": "LYxNrFLcMx_H"
      },
      "execution_count": null,
      "outputs": []
    },
    {
      "cell_type": "code",
      "source": [
        "df = pd.DataFrame(list, columns=['roots_id','ocr','xml','tif','size','shape'])\n",
        "df"
      ],
      "metadata": {
        "id": "lIjX3ANQd6nS"
      },
      "execution_count": null,
      "outputs": []
    },
    {
      "cell_type": "code",
      "source": [
        "df.isnull().sum()"
      ],
      "metadata": {
        "id": "uF4FscVtd_Of"
      },
      "execution_count": null,
      "outputs": []
    },
    {
      "cell_type": "code",
      "source": [
        "print(df.shape)\n"
      ],
      "metadata": {
        "id": "-Lf6-AVsiUJQ"
      },
      "execution_count": null,
      "outputs": []
    },
    {
      "cell_type": "code",
      "source": [
        "for i in list_2:\n",
        "    image = mpimg.imread(path + '/' + i)\n",
        "    plt.imshow(image,cmap = 'gray')\n",
        "    f = plt.gcf()\n",
        "    f.set_size_inches(24.5, 16)\n",
        "    plt.show()\n"
      ],
      "metadata": {
        "id": "ajDJ_kE4j8Yi"
      },
      "execution_count": null,
      "outputs": []
    },
    {
      "cell_type": "code",
      "source": [
        "image = cv2.imread(path + '/' + '0001139716.tif')\n",
        "plt.imshow(image,cmap = 'gray')\n",
        "f = plt.gcf()\n",
        "f.set_size_inches(24.5, 16)\n",
        "plt.show()\n"
      ],
      "metadata": {
        "id": "LU1AtmNEiwvV"
      },
      "execution_count": null,
      "outputs": []
    },
    {
      "cell_type": "code",
      "source": [
        "image = cv2.imread(path + '/' + '1001608664_1001608665.tif')\n",
        "\n",
        "plt.imshow(image,cmap = 'gray')\n",
        "f = plt.gcf()\n",
        "f.set_size_inches(24.5, 16)\n",
        "plt.show()\n"
      ],
      "metadata": {
        "id": "8kE4dExR_x0X"
      },
      "execution_count": null,
      "outputs": []
    },
    {
      "cell_type": "code",
      "source": [
        "image = cv2.imread(path + '/' + '0001139716.tif')\n",
        "plt.imshow(image,cmap = 'gray')\n",
        "f = plt.gcf()\n",
        "f.set_size_inches(24.5, 16)\n",
        "plt.show()\n",
        "\n"
      ],
      "metadata": {
        "id": "xFttmEo3nYhP"
      },
      "execution_count": null,
      "outputs": []
    },
    {
      "cell_type": "code",
      "source": [
        "image = cv2.imread(path + '/' + '0001139716.tif')\n",
        "plt.imshow(image,cmap = 'gray')\n",
        "f = plt.gcf()\n",
        "f.set_size_inches(24.5, 16)\n",
        "plt.show()"
      ],
      "metadata": {
        "id": "GS4uB0M-JzK2"
      },
      "execution_count": null,
      "outputs": []
    },
    {
      "cell_type": "code",
      "source": [
        "image = cv2.imread(path + '/' + '0001136521.tif')\n",
        "plt.imshow(image,cmap = 'gray')\n",
        "f = plt.gcf()\n",
        "f.set_size_inches(24.5, 16)\n",
        "plt.show()\n"
      ],
      "metadata": {
        "id": "1WWFRsovi_AR"
      },
      "execution_count": null,
      "outputs": []
    },
    {
      "cell_type": "code",
      "source": [
        "image = cv2.imread('/content/sample_data/OCR_Images/0001139626.tif')\n",
        "plt.imshow(image,cmap = 'gray')\n",
        "f = plt.gcf()\n",
        "f.set_size_inches(24.5, 16)\n",
        "plt.show()\n"
      ],
      "metadata": {
        "id": "KeGnSj-3noHq"
      },
      "execution_count": null,
      "outputs": []
    },
    {
      "cell_type": "code",
      "source": [
        "reader = easyocr.Reader(['en'])"
      ],
      "metadata": {
        "id": "-hG9hdoDrknv"
      },
      "execution_count": null,
      "outputs": []
    },
    {
      "cell_type": "code",
      "source": [
        "result = reader.readtext('/content/sample_data/OCR_Images/0000223278.tif')\n",
        "print(result)"
      ],
      "metadata": {
        "id": "XAD8CiSCr_Cn"
      },
      "execution_count": null,
      "outputs": []
    },
    {
      "cell_type": "code",
      "source": [
        "path_test = '/content/sample_data/OCR_Images_Test'\n",
        "print(os.listdir(path_test))"
      ],
      "metadata": {
        "id": "9DDyYz4wxHzm"
      },
      "execution_count": null,
      "outputs": []
    },
    {
      "cell_type": "code",
      "source": [
        "new_df= []\n",
        "\n",
        "for i in os.listdir(path_test):\n",
        "    new_df.append(i)"
      ],
      "metadata": {
        "id": "nMkmfoCByLeN"
      },
      "execution_count": null,
      "outputs": []
    },
    {
      "cell_type": "code",
      "source": [
        "new_df"
      ],
      "metadata": {
        "id": "j0vN5GvYNKcf"
      },
      "execution_count": null,
      "outputs": []
    },
    {
      "cell_type": "code",
      "source": [
        "reader = easyocr.Reader(['en'])\n",
        "img_number = 1\n",
        "df = pd.DataFrame()\n",
        "\n",
        "for i in new_df:\n",
        "    print(i)\n",
        "    image = mpimg.imread(path_test + '/' + i)\n",
        "    result = reader.readtext(image)\n",
        "    df=df.append(pd.DataFrame({'image':i, 'detected_text':result[0]}))\n",
        "    img_number +=1"
      ],
      "metadata": {
        "id": "bT9KhwWfzXQ5"
      },
      "execution_count": null,
      "outputs": []
    },
    {
      "cell_type": "code",
      "source": [
        "print(df)"
      ],
      "metadata": {
        "id": "rx0G9w27y-JZ"
      },
      "execution_count": null,
      "outputs": []
    },
    {
      "cell_type": "code",
      "source": [
        "import xml.etree.ElementTree as ET\n",
        "tree = ET.parse('/content/sample_data/OCR_Images/ti17120498_ocr.xml')\n",
        "root=tree.getroot()"
      ],
      "metadata": {
        "id": "4ZPK-mYUPszS"
      },
      "execution_count": null,
      "outputs": []
    },
    {
      "cell_type": "code",
      "source": [
        "import xml.etree.ElementTree as ET\n",
        "mytree = ET.parse('/content/sample_data/OCR_Images/ti31149327_9330_ocr.xml')\n",
        "myroot = mytree.getroot()\n",
        "print(myroot)"
      ],
      "metadata": {
        "id": "9fDGflqwP-Ra"
      },
      "execution_count": null,
      "outputs": []
    },
    {
      "cell_type": "code",
      "source": [
        "import fnmatch\n",
        "\n",
        "file_list = []\n",
        "for file in os.listdir(path):\n",
        "    if fnmatch.fnmatch(file,'*_ocr.xml'):\n",
        "        file_list.append(file)   "
      ],
      "metadata": {
        "id": "25C3sEi_Ja_9"
      },
      "execution_count": null,
      "outputs": []
    },
    {
      "cell_type": "code",
      "source": [
        "file_list"
      ],
      "metadata": {
        "id": "LDKqUZBO_093"
      },
      "execution_count": null,
      "outputs": []
    }
  ]
}